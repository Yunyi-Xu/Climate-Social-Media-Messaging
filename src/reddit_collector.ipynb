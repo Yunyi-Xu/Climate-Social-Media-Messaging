{
 "cells": [
  {
   "cell_type": "markdown",
   "id": "a1a20b92-598a-4bee-918b-91dc0025aa96",
   "metadata": {
    "jp-MarkdownHeadingCollapsed": true,
    "tags": []
   },
   "source": [
    "## Setup"
   ]
  },
  {
   "cell_type": "code",
   "execution_count": 4,
   "id": "a7e67cda-ba80-4343-b351-8bdc58e35838",
   "metadata": {},
   "outputs": [],
   "source": [
    "import pandas as pd"
   ]
  },
  {
   "cell_type": "code",
   "execution_count": 29,
   "id": "441b33df-d1b2-4f8e-ad8e-cd4e04a88141",
   "metadata": {},
   "outputs": [],
   "source": [
    "from psaw import PushshiftAPI\n",
    "\n",
    "api = PushshiftAPI()\n",
    "\n",
    "import datetime as dt\n",
    "import time\n"
   ]
  },
  {
   "cell_type": "markdown",
   "id": "699bc86b-c897-4ca9-a560-1f83ac9a9517",
   "metadata": {
    "tags": []
   },
   "source": [
    "## Collect Dataset"
   ]
  },
  {
   "cell_type": "code",
   "execution_count": 109,
   "id": "34765df1-1c06-4bb3-b30c-0a533e15270b",
   "metadata": {},
   "outputs": [],
   "source": [
    "#Takes generator of posts and adds them to \"data\" dictionary\n",
    "#NOTE: make sure to globally define data if converted to script\n",
    "\n",
    "def add_posts(posts, dictionary):\n",
    "    for post in posts:\n",
    "        try: # makes sure no fields are null before adding to dictionary\n",
    "            ID = post.id\n",
    "            title = post.title\n",
    "            author = post.author\n",
    "            subreddit = post.subreddit\n",
    "            subreddit_subscribers = post.subreddit_subscribers\n",
    "            num_comments = post.num_comments\n",
    "            upvote_ratio = post.upvote_ratio\n",
    "            selftext = post.selftext\n",
    "        except AttributeError:\n",
    "            continue\n",
    "        dictionary[\"id\"].append(ID)\n",
    "        dictionary[\"title\"].append(title)\n",
    "        dictionary[\"author\"].append(author)\n",
    "        dictionary[\"subreddit\"].append(subreddit)\n",
    "        dictionary[\"subreddit_subscribers\"].append(subreddit_subscribers)\n",
    "        dictionary[\"num_comments\"].append(num_comments)\n",
    "        dictionary[\"upvote_ratio\"].append(upvote_ratio)                            \n",
    "        dictionary[\"selftext\"].append(selftext)\n",
    "    return dictionary\n",
    "        "
   ]
  },
  {
   "cell_type": "code",
   "execution_count": 156,
   "id": "9df23a75-760e-4b67-9abf-8b3e4a2e4963",
   "metadata": {},
   "outputs": [],
   "source": [
    "def collect_posts(subreddits: list, monthRange: tuple, dayRange: tuple):\n",
    "    \n",
    "    \"\"\"\n",
    "    Collects posts over a given time range in a given number of subreddits and returns a list of dictionaries containing the results.\n",
    "\n",
    "    Parameters\n",
    "    ----------\n",
    "    subreddits: list\n",
    "        List of strings, each specifying a subreddits to query\n",
    "    monthRange: tuple\n",
    "        Tuple of two integers corresponding to first and last month to query. Use integers 1 through 12.\n",
    "    dayRange\n",
    "        Tuple of two integers corresponding to first and last day per month to query. Use integers 1 through 31.\n",
    "\n",
    "    Returns\n",
    "    -------\n",
    "    list of dict\n",
    "        Each dictionary corresponds to queries of a given subreddit\n",
    "\n",
    "    \"\"\"\n",
    "    \n",
    "    dictionaries = list()\n",
    "    for s in subreddits:\n",
    "        d = {\"id\": [], \"title\" : [], \"author\" : [], \"subreddit\": [], \"subreddit_subscribers\" : [], \"num_comments\": [], \"upvote_ratio\": [], \"selftext\" : []}\n",
    "        for month in range(monthRange[0],monthRange[1]+1):\n",
    "            for i in range(dayRange[0],dayRange[1]+1):\n",
    "                try:\n",
    "                    start_epoch = int(dt.datetime(2021, month, i).timestamp())\n",
    "                    end_epoch = int(dt.datetime (2021, month, i+1).timestamp())\n",
    "                except ValueError: # occurs when trying to access Feb 30, April 31, etc.\n",
    "                    break\n",
    "                posts = api.search_submissions(q = '\"climate change\"|\"global warming\"',\n",
    "                after = start_epoch,\n",
    "                before = end_epoch,\n",
    "                subreddit = s,\n",
    "                limit = 100)\n",
    "                \n",
    "                \n",
    "                d = add_posts(posts, d)\n",
    "        dictionaries.append(d)\n",
    "    return dictionaries"
   ]
  },
  {
   "cell_type": "code",
   "execution_count": 157,
   "id": "8ee95cbf-3f6f-4c44-abd6-12dbcbf7866d",
   "metadata": {},
   "outputs": [
    {
     "name": "stderr",
     "output_type": "stream",
     "text": [
      "/Users/robdow/anaconda3/lib/python3.9/site-packages/psaw/PushshiftAPI.py:192: UserWarning: Got non 200 code 502\n",
      "  warnings.warn(\"Got non 200 code %s\" % response.status_code)\n"
     ]
    }
   ],
   "source": [
    "ds = collect_posts([\"news\", \"science\", \"askreddit\", \"politics\", \"technology\"], (1,12), (1,31))"
   ]
  },
  {
   "cell_type": "code",
   "execution_count": 162,
   "id": "2cffc756-6bf0-4d09-aa55-0ef0920ae5d3",
   "metadata": {},
   "outputs": [
    {
     "data": {
      "text/plain": [
       "99"
      ]
     },
     "execution_count": 162,
     "metadata": {},
     "output_type": "execute_result"
    }
   ],
   "source": [
    "len(ds[4][\"subreddit\"])"
   ]
  },
  {
   "cell_type": "markdown",
   "id": "6670751d-a1b0-46f8-b5ec-892182d74075",
   "metadata": {
    "jp-MarkdownHeadingCollapsed": true,
    "tags": []
   },
   "source": [
    "## Troubleshooting section"
   ]
  },
  {
   "cell_type": "code",
   "execution_count": 78,
   "id": "8ba431eb-5d3f-407d-9187-ddf1e748fe9d",
   "metadata": {},
   "outputs": [],
   "source": [
    "terms = [\"climate change\",\"global warming\"\"]"
   ]
  },
  {
   "cell_type": "code",
   "execution_count": 202,
   "id": "a48a6155-1ea5-4061-b32b-6b52d1fa17a1",
   "metadata": {},
   "outputs": [
    {
     "name": "stdout",
     "output_type": "stream",
     "text": [
      "total: 100\tEither: 98\ttitle: 56\tselftext: 45\n"
     ]
    }
   ],
   "source": [
    "# This code is used to count keywords appearing in title vs selftext\n",
    "\n",
    "start_epoch = int(dt.datetime(2021, 1, 4).timestamp())\n",
    "end_epoch = int(dt.datetime (2021, 1, 5).timestamp())\n",
    "\n",
    "posts = api.search_submissions(q = '\"climate change\"|\"global warming\"',\n",
    "after = start_epoch,\n",
    "before = end_epoch,\n",
    "limit = 100\n",
    ")\n",
    "\n",
    "title = 0\n",
    "selftext = 0\n",
    "either = 0\n",
    "total = 0\n",
    "for post in posts:\n",
    "    total += 1\n",
    "    for term in terms:\n",
    "        if (term in post.title.lower()) or (term in post.selftext.lower()):\n",
    "            either += 1\n",
    "            if (term in post.title.lower()):\n",
    "                title += 1\n",
    "            if (term in post.selftext.lower()):\n",
    "                selftext += 1\n",
    "        break\n",
    "    # else:\n",
    "    #     print(post)\n",
    "    #     break\n",
    "print(f\"total: {total}\\tEither: {either}\\ttitle: {title}\\tselftext: {selftext}\")"
   ]
  },
  {
   "cell_type": "code",
   "execution_count": 219,
   "id": "29be2e7f-f99c-46fe-8602-17d0a3d7466b",
   "metadata": {},
   "outputs": [],
   "source": [
    "#This code is used to collect 100 posts from a single day (makes it easy to troubleshoot)\n",
    "\n",
    "start_epoch = int(dt.datetime(2021, 1, 4).timestamp())\n",
    "end_epoch = int(dt.datetime (2021, 1, 5).timestamp())\n",
    "\n",
    "posts = api.search_submissions(q = '\"climate change\"|\"forest fire\"|\"greenhouse gas\"',\n",
    "after = start_epoch,\n",
    "before = end_epoch,\n",
    "limit = 100\n",
    ")"
   ]
  },
  {
   "cell_type": "code",
   "execution_count": 220,
   "id": "53ee1691-9762-4d84-bbe6-c1652bf284d1",
   "metadata": {},
   "outputs": [],
   "source": [
    "p = next(posts) #gets individual post"
   ]
  },
  {
   "cell_type": "code",
   "execution_count": 221,
   "id": "4606540f-f10a-4176-8c4d-3fc5dabe5c98",
   "metadata": {},
   "outputs": [
    {
     "data": {
      "text/plain": [
       "\"Why haven't we engineered a bacteria that essentially eats CO2 and sequesters it very efficiently to combat climate change? Desperate for this discussion!\""
      ]
     },
     "execution_count": 221,
     "metadata": {},
     "output_type": "execute_result"
    }
   ],
   "source": [
    "p.title #access attribute of a post"
   ]
  },
  {
   "cell_type": "code",
   "execution_count": 222,
   "id": "0049c805-1d13-4ebd-8d2a-146daf0d32fe",
   "metadata": {},
   "outputs": [
    {
     "name": "stdout",
     "output_type": "stream",
     "text": [
      "FF: 5\tGG: 0\tCC: 91\tTotal: 99\n"
     ]
    }
   ],
   "source": [
    "#counts number of keywords contained in posts\n",
    "\n",
    "cc = 0\n",
    "ff = 0\n",
    "gg = 0\n",
    "total = 0\n",
    "for post in posts:\n",
    "    total += 1\n",
    "    if (\"climate change\" in post.title.lower()) or (\"climate change\" in post.selftext.lower()):\n",
    "        cc += 1\n",
    "    elif (\"forest fire\" in post.title) or (\"forest fire\" in post.selftext):\n",
    "        ff += 1\n",
    "    elif (\"greenhouse gas\" in post.title) or (\"greenhouse gas\" in post.selftext):\n",
    "        ff += 1\n",
    "    # else:\n",
    "    #     print(post)\n",
    "    #     break\n",
    "print(f\"FF: {ff}\\tGG: {gg}\\tCC: {cc}\\tTotal: {total}\")"
   ]
  },
  {
   "cell_type": "code",
   "execution_count": 414,
   "id": "7780bac1-2d09-476b-8db1-c70ce89c42bb",
   "metadata": {},
   "outputs": [],
   "source": [
    "#There are a lot of attributes in a post. I found these ones helpful\n",
    "\n",
    "#Title\n",
    "#subreddit\n",
    "#author\n",
    "#media_only\n",
    "#subreddit_subscribers (number)\n",
    "#id\n",
    "#num_comments"
   ]
  },
  {
   "cell_type": "markdown",
   "id": "c15bd556-4fd8-4db1-aa70-b6b5f6cd2c33",
   "metadata": {
    "tags": []
   },
   "source": [
    "## Converting to usable files"
   ]
  },
  {
   "cell_type": "code",
   "execution_count": 99,
   "id": "de1270a7-1758-4204-9a4d-ae33e456bbfb",
   "metadata": {},
   "outputs": [],
   "source": [
    "df = pd.DataFrame.from_dict(data) #load dictionary into dataframe"
   ]
  },
  {
   "cell_type": "code",
   "execution_count": 78,
   "id": "10eefc15-bc89-42cd-915a-a256aeacbb1b",
   "metadata": {},
   "outputs": [],
   "source": [
    "# remove empty posts\n",
    "df = df.loc[ ((~(df[\"selftext\"] == '')) & (~(df[\"selftext\"] == '[removed]')) & (~(df[\"selftext\"] == '[deleted]')) & (~(df[\"title\"] == '')) & (~(df[\"title\"] == '')))]"
   ]
  },
  {
   "cell_type": "code",
   "execution_count": 91,
   "id": "0564a73e-ba4c-4f8e-bed1-1380794dde49",
   "metadata": {},
   "outputs": [
    {
     "data": {
      "text/plain": [
       "150"
      ]
     },
     "execution_count": 91,
     "metadata": {},
     "output_type": "execute_result"
    }
   ],
   "source": [
    "len(df[\"title\"])"
   ]
  },
  {
   "cell_type": "code",
   "execution_count": 100,
   "id": "9a953d67-a320-4667-b0fb-6bc281ce45b7",
   "metadata": {},
   "outputs": [
    {
     "data": {
      "text/html": [
       "<div>\n",
       "<style scoped>\n",
       "    .dataframe tbody tr th:only-of-type {\n",
       "        vertical-align: middle;\n",
       "    }\n",
       "\n",
       "    .dataframe tbody tr th {\n",
       "        vertical-align: top;\n",
       "    }\n",
       "\n",
       "    .dataframe thead th {\n",
       "        text-align: right;\n",
       "    }\n",
       "</style>\n",
       "<table border=\"1\" class=\"dataframe\">\n",
       "  <thead>\n",
       "    <tr style=\"text-align: right;\">\n",
       "      <th></th>\n",
       "      <th>id</th>\n",
       "      <th>title</th>\n",
       "      <th>author</th>\n",
       "      <th>subreddit</th>\n",
       "      <th>subreddit_subscribers</th>\n",
       "      <th>num_comments</th>\n",
       "      <th>upvote_ratio</th>\n",
       "      <th>selftext</th>\n",
       "    </tr>\n",
       "  </thead>\n",
       "  <tbody>\n",
       "    <tr>\n",
       "      <th>0</th>\n",
       "      <td>kpfhjc</td>\n",
       "      <td>https://ift.tt/rBO82H 2021 could be turning po...</td>\n",
       "      <td>Mubashar110</td>\n",
       "      <td>news</td>\n",
       "      <td>22533936</td>\n",
       "      <td>0</td>\n",
       "      <td>1.00</td>\n",
       "      <td></td>\n",
       "    </tr>\n",
       "    <tr>\n",
       "      <th>1</th>\n",
       "      <td>la131z</td>\n",
       "      <td>Evaluation | Biden sweeps away Trump’s climate...</td>\n",
       "      <td>newsnationglobal</td>\n",
       "      <td>news</td>\n",
       "      <td>22789503</td>\n",
       "      <td>0</td>\n",
       "      <td>1.00</td>\n",
       "      <td></td>\n",
       "    </tr>\n",
       "    <tr>\n",
       "      <th>2</th>\n",
       "      <td>la0bed</td>\n",
       "      <td>How Climate Change May Affect Your Health</td>\n",
       "      <td>corealphanews</td>\n",
       "      <td>news</td>\n",
       "      <td>22789337</td>\n",
       "      <td>0</td>\n",
       "      <td>1.00</td>\n",
       "      <td></td>\n",
       "    </tr>\n",
       "    <tr>\n",
       "      <th>3</th>\n",
       "      <td>lb144x</td>\n",
       "      <td>CAMPAIGN 2021: Climate change rises as an issu...</td>\n",
       "      <td>[deleted]</td>\n",
       "      <td>news</td>\n",
       "      <td>22795253</td>\n",
       "      <td>0</td>\n",
       "      <td>0.50</td>\n",
       "      <td>[deleted]</td>\n",
       "    </tr>\n",
       "    <tr>\n",
       "      <th>4</th>\n",
       "      <td>laye0s</td>\n",
       "      <td>Spinach taught how to send emails in MIT study...</td>\n",
       "      <td>goodwoodenship</td>\n",
       "      <td>news</td>\n",
       "      <td>22794941</td>\n",
       "      <td>0</td>\n",
       "      <td>1.00</td>\n",
       "      <td></td>\n",
       "    </tr>\n",
       "    <tr>\n",
       "      <th>5</th>\n",
       "      <td>laydbj</td>\n",
       "      <td>Spinach taught how to send emails in MIT study...</td>\n",
       "      <td>goodwoodenship</td>\n",
       "      <td>news</td>\n",
       "      <td>22794938</td>\n",
       "      <td>0</td>\n",
       "      <td>1.00</td>\n",
       "      <td></td>\n",
       "    </tr>\n",
       "    <tr>\n",
       "      <th>6</th>\n",
       "      <td>lc79ym</td>\n",
       "      <td>Scientists Taught Spinach How to Send Emails t...</td>\n",
       "      <td>Alaskan_Lost</td>\n",
       "      <td>news</td>\n",
       "      <td>22801350</td>\n",
       "      <td>14</td>\n",
       "      <td>0.78</td>\n",
       "      <td></td>\n",
       "    </tr>\n",
       "    <tr>\n",
       "      <th>7</th>\n",
       "      <td>lwdzv4</td>\n",
       "      <td>Pope Francis has warned that mankind is facing...</td>\n",
       "      <td>BSA3279</td>\n",
       "      <td>news</td>\n",
       "      <td>22904368</td>\n",
       "      <td>0</td>\n",
       "      <td>1.00</td>\n",
       "      <td></td>\n",
       "    </tr>\n",
       "    <tr>\n",
       "      <th>8</th>\n",
       "      <td>lwdxl8</td>\n",
       "      <td>Pope Francis has warned that mankind is facing...</td>\n",
       "      <td>BSA3279</td>\n",
       "      <td>news</td>\n",
       "      <td>22904360</td>\n",
       "      <td>0</td>\n",
       "      <td>1.00</td>\n",
       "      <td></td>\n",
       "    </tr>\n",
       "    <tr>\n",
       "      <th>9</th>\n",
       "      <td>lwdvmi</td>\n",
       "      <td>Pope Francis has warned that mankind is facing...</td>\n",
       "      <td>BSA3279</td>\n",
       "      <td>news</td>\n",
       "      <td>22904348</td>\n",
       "      <td>0</td>\n",
       "      <td>1.00</td>\n",
       "      <td></td>\n",
       "    </tr>\n",
       "    <tr>\n",
       "      <th>10</th>\n",
       "      <td>lwyvmh</td>\n",
       "      <td>The oil industry is getting greener faster as ...</td>\n",
       "      <td>TheAtheistArab87</td>\n",
       "      <td>news</td>\n",
       "      <td>22913114</td>\n",
       "      <td>4</td>\n",
       "      <td>0.64</td>\n",
       "      <td></td>\n",
       "    </tr>\n",
       "    <tr>\n",
       "      <th>11</th>\n",
       "      <td>lxk3qo</td>\n",
       "      <td>FedEx gifts $100 million for new center at Yal...</td>\n",
       "      <td>thinkesg</td>\n",
       "      <td>news</td>\n",
       "      <td>22915432</td>\n",
       "      <td>0</td>\n",
       "      <td>1.00</td>\n",
       "      <td></td>\n",
       "    </tr>\n",
       "    <tr>\n",
       "      <th>12</th>\n",
       "      <td>mhz2zz</td>\n",
       "      <td>Janet Yellen: Climate change poses ‘existentia...</td>\n",
       "      <td>dookiea</td>\n",
       "      <td>news</td>\n",
       "      <td>23006648</td>\n",
       "      <td>0</td>\n",
       "      <td>1.00</td>\n",
       "      <td></td>\n",
       "    </tr>\n",
       "    <tr>\n",
       "      <th>13</th>\n",
       "      <td>mhv49h</td>\n",
       "      <td>Bitcoin is inhibiting the fight against climat...</td>\n",
       "      <td>morenewsat11</td>\n",
       "      <td>news</td>\n",
       "      <td>23006223</td>\n",
       "      <td>0</td>\n",
       "      <td>1.00</td>\n",
       "      <td></td>\n",
       "    </tr>\n",
       "    <tr>\n",
       "      <th>14</th>\n",
       "      <td>milupn</td>\n",
       "      <td>Sweden axes Bill Gates-funded Harvard experime...</td>\n",
       "      <td>ElonMuch</td>\n",
       "      <td>news</td>\n",
       "      <td>23009429</td>\n",
       "      <td>0</td>\n",
       "      <td>1.00</td>\n",
       "      <td></td>\n",
       "    </tr>\n",
       "    <tr>\n",
       "      <th>15</th>\n",
       "      <td>mjew3w</td>\n",
       "      <td>U.S. 'hopeful' it can work with China to tackl...</td>\n",
       "      <td>Worldaffairsss</td>\n",
       "      <td>news</td>\n",
       "      <td>23013282</td>\n",
       "      <td>2</td>\n",
       "      <td>1.00</td>\n",
       "      <td></td>\n",
       "    </tr>\n",
       "    <tr>\n",
       "      <th>16</th>\n",
       "      <td>n2lj6z</td>\n",
       "      <td>You Can Taste Climate Change in this Awful Beer</td>\n",
       "      <td>Pahasapa66</td>\n",
       "      <td>news</td>\n",
       "      <td>23113844</td>\n",
       "      <td>0</td>\n",
       "      <td>1.00</td>\n",
       "      <td></td>\n",
       "    </tr>\n",
       "    <tr>\n",
       "      <th>17</th>\n",
       "      <td>n4tvuf</td>\n",
       "      <td>New US weather data shows ‘obvious’ effects of...</td>\n",
       "      <td>vokiel</td>\n",
       "      <td>news</td>\n",
       "      <td>23142720</td>\n",
       "      <td>5</td>\n",
       "      <td>1.00</td>\n",
       "      <td></td>\n",
       "    </tr>\n",
       "    <tr>\n",
       "      <th>18</th>\n",
       "      <td>nprch0</td>\n",
       "      <td>Expertos en biología subterránea de varios cen...</td>\n",
       "      <td>ecoportal-net</td>\n",
       "      <td>news</td>\n",
       "      <td>23253380</td>\n",
       "      <td>0</td>\n",
       "      <td>1.00</td>\n",
       "      <td></td>\n",
       "    </tr>\n",
       "    <tr>\n",
       "      <th>19</th>\n",
       "      <td>npnnjj</td>\n",
       "      <td>Global warming is boiling our testicles, sugge...</td>\n",
       "      <td>[deleted]</td>\n",
       "      <td>news</td>\n",
       "      <td>23252786</td>\n",
       "      <td>0</td>\n",
       "      <td>1.00</td>\n",
       "      <td>[deleted]</td>\n",
       "    </tr>\n",
       "    <tr>\n",
       "      <th>20</th>\n",
       "      <td>nrflnk</td>\n",
       "      <td>California's snowpack is at a devastating 0% o...</td>\n",
       "      <td>Bluest_waters</td>\n",
       "      <td>news</td>\n",
       "      <td>23261990</td>\n",
       "      <td>3</td>\n",
       "      <td>1.00</td>\n",
       "      <td></td>\n",
       "    </tr>\n",
       "    <tr>\n",
       "      <th>21</th>\n",
       "      <td>nre4xf</td>\n",
       "      <td>Tasked to Fight Climate Change, a Secretive U....</td>\n",
       "      <td>1Eternallylost</td>\n",
       "      <td>news</td>\n",
       "      <td>23261768</td>\n",
       "      <td>0</td>\n",
       "      <td>1.00</td>\n",
       "      <td></td>\n",
       "    </tr>\n",
       "    <tr>\n",
       "      <th>22</th>\n",
       "      <td>nr8vyg</td>\n",
       "      <td>A 20-Foot Sea Wall? Miami Faces the Hard Choic...</td>\n",
       "      <td>wdomeika</td>\n",
       "      <td>news</td>\n",
       "      <td>23260975</td>\n",
       "      <td>2</td>\n",
       "      <td>1.00</td>\n",
       "      <td></td>\n",
       "    </tr>\n",
       "    <tr>\n",
       "      <th>23</th>\n",
       "      <td>obzz9v</td>\n",
       "      <td>Tropical Storm Elsa is the latest evidence cli...</td>\n",
       "      <td>snoogenfloop</td>\n",
       "      <td>news</td>\n",
       "      <td>23369487</td>\n",
       "      <td>0</td>\n",
       "      <td>1.00</td>\n",
       "      <td></td>\n",
       "    </tr>\n",
       "    <tr>\n",
       "      <th>24</th>\n",
       "      <td>oby3ql</td>\n",
       "      <td>Another town lost to climate change, 49.6 C, 2...</td>\n",
       "      <td>Global-Intention-260</td>\n",
       "      <td>news</td>\n",
       "      <td>23369047</td>\n",
       "      <td>22</td>\n",
       "      <td>1.00</td>\n",
       "      <td></td>\n",
       "    </tr>\n",
       "    <tr>\n",
       "      <th>25</th>\n",
       "      <td>obu6f1</td>\n",
       "      <td>Climate change: 'Last refuge' for polar bears ...</td>\n",
       "      <td>TVaddictpanda</td>\n",
       "      <td>news</td>\n",
       "      <td>23368255</td>\n",
       "      <td>19</td>\n",
       "      <td>1.00</td>\n",
       "      <td></td>\n",
       "    </tr>\n",
       "    <tr>\n",
       "      <th>26</th>\n",
       "      <td>obqpgo</td>\n",
       "      <td>climate change action</td>\n",
       "      <td>robertaili</td>\n",
       "      <td>news</td>\n",
       "      <td>23367574</td>\n",
       "      <td>1</td>\n",
       "      <td>1.00</td>\n",
       "      <td></td>\n",
       "    </tr>\n",
       "    <tr>\n",
       "      <th>27</th>\n",
       "      <td>oborj9</td>\n",
       "      <td>California wildfire insurance: Charging for cl...</td>\n",
       "      <td>mylesrnussbaum</td>\n",
       "      <td>news</td>\n",
       "      <td>23367247</td>\n",
       "      <td>1</td>\n",
       "      <td>1.00</td>\n",
       "      <td></td>\n",
       "    </tr>\n",
       "    <tr>\n",
       "      <th>28</th>\n",
       "      <td>ocne0n</td>\n",
       "      <td>ExxonMobil’s admit on tape the lobbying war on...</td>\n",
       "      <td>bthoman2</td>\n",
       "      <td>news</td>\n",
       "      <td>23373895</td>\n",
       "      <td>0</td>\n",
       "      <td>1.00</td>\n",
       "      <td></td>\n",
       "    </tr>\n",
       "    <tr>\n",
       "      <th>29</th>\n",
       "      <td>occozz</td>\n",
       "      <td>We are completely failing at addressing climat...</td>\n",
       "      <td>wileyfoxes</td>\n",
       "      <td>news</td>\n",
       "      <td>23372217</td>\n",
       "      <td>0</td>\n",
       "      <td>1.00</td>\n",
       "      <td></td>\n",
       "    </tr>\n",
       "  </tbody>\n",
       "</table>\n",
       "</div>"
      ],
      "text/plain": [
       "        id                                              title  \\\n",
       "0   kpfhjc  https://ift.tt/rBO82H 2021 could be turning po...   \n",
       "1   la131z  Evaluation | Biden sweeps away Trump’s climate...   \n",
       "2   la0bed          How Climate Change May Affect Your Health   \n",
       "3   lb144x  CAMPAIGN 2021: Climate change rises as an issu...   \n",
       "4   laye0s  Spinach taught how to send emails in MIT study...   \n",
       "5   laydbj  Spinach taught how to send emails in MIT study...   \n",
       "6   lc79ym  Scientists Taught Spinach How to Send Emails t...   \n",
       "7   lwdzv4  Pope Francis has warned that mankind is facing...   \n",
       "8   lwdxl8  Pope Francis has warned that mankind is facing...   \n",
       "9   lwdvmi  Pope Francis has warned that mankind is facing...   \n",
       "10  lwyvmh  The oil industry is getting greener faster as ...   \n",
       "11  lxk3qo  FedEx gifts $100 million for new center at Yal...   \n",
       "12  mhz2zz  Janet Yellen: Climate change poses ‘existentia...   \n",
       "13  mhv49h  Bitcoin is inhibiting the fight against climat...   \n",
       "14  milupn  Sweden axes Bill Gates-funded Harvard experime...   \n",
       "15  mjew3w  U.S. 'hopeful' it can work with China to tackl...   \n",
       "16  n2lj6z    You Can Taste Climate Change in this Awful Beer   \n",
       "17  n4tvuf  New US weather data shows ‘obvious’ effects of...   \n",
       "18  nprch0  Expertos en biología subterránea de varios cen...   \n",
       "19  npnnjj  Global warming is boiling our testicles, sugge...   \n",
       "20  nrflnk  California's snowpack is at a devastating 0% o...   \n",
       "21  nre4xf  Tasked to Fight Climate Change, a Secretive U....   \n",
       "22  nr8vyg  A 20-Foot Sea Wall? Miami Faces the Hard Choic...   \n",
       "23  obzz9v  Tropical Storm Elsa is the latest evidence cli...   \n",
       "24  oby3ql  Another town lost to climate change, 49.6 C, 2...   \n",
       "25  obu6f1  Climate change: 'Last refuge' for polar bears ...   \n",
       "26  obqpgo                              climate change action   \n",
       "27  oborj9  California wildfire insurance: Charging for cl...   \n",
       "28  ocne0n  ExxonMobil’s admit on tape the lobbying war on...   \n",
       "29  occozz  We are completely failing at addressing climat...   \n",
       "\n",
       "                  author subreddit  subreddit_subscribers  num_comments  \\\n",
       "0            Mubashar110      news               22533936             0   \n",
       "1       newsnationglobal      news               22789503             0   \n",
       "2          corealphanews      news               22789337             0   \n",
       "3              [deleted]      news               22795253             0   \n",
       "4         goodwoodenship      news               22794941             0   \n",
       "5         goodwoodenship      news               22794938             0   \n",
       "6           Alaskan_Lost      news               22801350            14   \n",
       "7                BSA3279      news               22904368             0   \n",
       "8                BSA3279      news               22904360             0   \n",
       "9                BSA3279      news               22904348             0   \n",
       "10      TheAtheistArab87      news               22913114             4   \n",
       "11              thinkesg      news               22915432             0   \n",
       "12               dookiea      news               23006648             0   \n",
       "13          morenewsat11      news               23006223             0   \n",
       "14              ElonMuch      news               23009429             0   \n",
       "15        Worldaffairsss      news               23013282             2   \n",
       "16            Pahasapa66      news               23113844             0   \n",
       "17                vokiel      news               23142720             5   \n",
       "18         ecoportal-net      news               23253380             0   \n",
       "19             [deleted]      news               23252786             0   \n",
       "20         Bluest_waters      news               23261990             3   \n",
       "21        1Eternallylost      news               23261768             0   \n",
       "22              wdomeika      news               23260975             2   \n",
       "23          snoogenfloop      news               23369487             0   \n",
       "24  Global-Intention-260      news               23369047            22   \n",
       "25         TVaddictpanda      news               23368255            19   \n",
       "26            robertaili      news               23367574             1   \n",
       "27        mylesrnussbaum      news               23367247             1   \n",
       "28              bthoman2      news               23373895             0   \n",
       "29            wileyfoxes      news               23372217             0   \n",
       "\n",
       "    upvote_ratio   selftext  \n",
       "0           1.00             \n",
       "1           1.00             \n",
       "2           1.00             \n",
       "3           0.50  [deleted]  \n",
       "4           1.00             \n",
       "5           1.00             \n",
       "6           0.78             \n",
       "7           1.00             \n",
       "8           1.00             \n",
       "9           1.00             \n",
       "10          0.64             \n",
       "11          1.00             \n",
       "12          1.00             \n",
       "13          1.00             \n",
       "14          1.00             \n",
       "15          1.00             \n",
       "16          1.00             \n",
       "17          1.00             \n",
       "18          1.00             \n",
       "19          1.00  [deleted]  \n",
       "20          1.00             \n",
       "21          1.00             \n",
       "22          1.00             \n",
       "23          1.00             \n",
       "24          1.00             \n",
       "25          1.00             \n",
       "26          1.00             \n",
       "27          1.00             \n",
       "28          1.00             \n",
       "29          1.00             "
      ]
     },
     "execution_count": 100,
     "metadata": {},
     "output_type": "execute_result"
    }
   ],
   "source": [
    "df.head(30)"
   ]
  },
  {
   "cell_type": "code",
   "execution_count": 61,
   "id": "e059eceb-37ac-4ee2-a4b8-1b3d1ad06d02",
   "metadata": {},
   "outputs": [],
   "source": [
    "raw = df[[\"subreddit\", \"subreddit_subscribers\"]]\n",
    "raw = raw.set_index([\"subreddit\"])"
   ]
  },
  {
   "cell_type": "code",
   "execution_count": 129,
   "id": "89837eb3-5096-44b5-9a6a-6ceeb87eb2cd",
   "metadata": {},
   "outputs": [
    {
     "data": {
      "text/plain": [
       "AskReddit           969\n",
       "AutoNewspaper       868\n",
       "environment         716\n",
       "collapse            647\n",
       "climatechange       614\n",
       "climatedisalarm     587\n",
       "unpopularopinion    545\n",
       "climate             540\n",
       "climateskeptics     539\n",
       "newsbotbot          448\n",
       "Name: subreddit, dtype: int64"
      ]
     },
     "execution_count": 129,
     "metadata": {},
     "output_type": "execute_result"
    }
   ],
   "source": [
    "counts = df[\"subreddit\"].value_counts().head(10)\n",
    "counts"
   ]
  },
  {
   "cell_type": "code",
   "execution_count": 93,
   "id": "d91b1589-d206-4cb2-9f4a-a21f9fded50f",
   "metadata": {},
   "outputs": [
    {
     "data": {
      "text/plain": [
       "array(['Gangstalking', 'ElizabethWarren', 'SFr4r', ..., 'u_nilz2977',\n",
       "       'u_Coyoteaus', 'TVWriting'], dtype=object)"
      ]
     },
     "execution_count": 93,
     "metadata": {},
     "output_type": "execute_result"
    }
   ],
   "source": [
    "# pd.merge(counts, raw, how=\"right\", on=[\"subreddit\"])\n",
    "# raw.loc[raw[\"subreddit\"] == \"CryptoMars\"]\n",
    "# raw.loc[raw.index == \"autotldr\"]\n",
    "pd.unique(raw.index)"
   ]
  },
  {
   "cell_type": "code",
   "execution_count": 108,
   "id": "f354bcb7-af2f-48fe-ac90-f9c6727cf1ae",
   "metadata": {},
   "outputs": [
    {
     "data": {
      "text/plain": [
       "unpopularopinion     88\n",
       "NoStupidQuestions    70\n",
       "conspiracy           64\n",
       "teenagers            60\n",
       "environment          34\n",
       "changemyview         32\n",
       "TrueOffMyChest       28\n",
       "offmychest           27\n",
       "childfree            27\n",
       "r4r                  24\n",
       "Name: subreddit, dtype: int64"
      ]
     },
     "execution_count": 108,
     "metadata": {},
     "output_type": "execute_result"
    }
   ],
   "source": [
    "df2 = df.loc[df[\"subreddit_subscribers\"] > 400000]\n",
    "df2[\"subreddit\"].value_counts().head(10)"
   ]
  },
  {
   "cell_type": "code",
   "execution_count": 127,
   "id": "28a6a08e-a381-48df-bd96-54615ffaf082",
   "metadata": {},
   "outputs": [
    {
     "data": {
      "text/html": [
       "<div>\n",
       "<style scoped>\n",
       "    .dataframe tbody tr th:only-of-type {\n",
       "        vertical-align: middle;\n",
       "    }\n",
       "\n",
       "    .dataframe tbody tr th {\n",
       "        vertical-align: top;\n",
       "    }\n",
       "\n",
       "    .dataframe thead th {\n",
       "        text-align: right;\n",
       "    }\n",
       "</style>\n",
       "<table border=\"1\" class=\"dataframe\">\n",
       "  <thead>\n",
       "    <tr style=\"text-align: right;\">\n",
       "      <th></th>\n",
       "      <th>subreddit</th>\n",
       "    </tr>\n",
       "  </thead>\n",
       "  <tbody>\n",
       "    <tr>\n",
       "      <th>autotldr</th>\n",
       "      <td>428</td>\n",
       "    </tr>\n",
       "    <tr>\n",
       "      <th>unpopularopinion</th>\n",
       "      <td>410</td>\n",
       "    </tr>\n",
       "    <tr>\n",
       "      <th>climatechange</th>\n",
       "      <td>307</td>\n",
       "    </tr>\n",
       "    <tr>\n",
       "      <th>conspiracy</th>\n",
       "      <td>307</td>\n",
       "    </tr>\n",
       "    <tr>\n",
       "      <th>NoStupidQuestions</th>\n",
       "      <td>305</td>\n",
       "    </tr>\n",
       "    <tr>\n",
       "      <th>collapse</th>\n",
       "      <td>271</td>\n",
       "    </tr>\n",
       "    <tr>\n",
       "      <th>teenagers</th>\n",
       "      <td>259</td>\n",
       "    </tr>\n",
       "    <tr>\n",
       "      <th>CryptoMoonShots</th>\n",
       "      <td>233</td>\n",
       "    </tr>\n",
       "    <tr>\n",
       "      <th>dirtypenpals</th>\n",
       "      <td>160</td>\n",
       "    </tr>\n",
       "    <tr>\n",
       "      <th>CryptoMoon</th>\n",
       "      <td>155</td>\n",
       "    </tr>\n",
       "  </tbody>\n",
       "</table>\n",
       "</div>"
      ],
      "text/plain": [
       "                   subreddit\n",
       "autotldr                 428\n",
       "unpopularopinion         410\n",
       "climatechange            307\n",
       "conspiracy               307\n",
       "NoStupidQuestions        305\n",
       "collapse                 271\n",
       "teenagers                259\n",
       "CryptoMoonShots          233\n",
       "dirtypenpals             160\n",
       "CryptoMoon               155"
      ]
     },
     "execution_count": 127,
     "metadata": {},
     "output_type": "execute_result"
    }
   ],
   "source": [
    "counts"
   ]
  },
  {
   "cell_type": "code",
   "execution_count": null,
   "id": "57b4263a-8c4c-49a1-9142-af91efca03ef",
   "metadata": {},
   "outputs": [],
   "source": [
    "'\"climate emergency\"|\"greenhouse gas\"|\"climate justice\"|\"climate action\"|\"carbon offset\"|\"carbon capture\"|\"carbon emissions\"|\"carbon dioxide emissions\"|\"co2 emissions\"|\"carbon offsets\"'"
   ]
  },
  {
   "cell_type": "code",
   "execution_count": 126,
   "id": "7e346209-97f7-4900-9cf6-df9cc2e33192",
   "metadata": {},
   "outputs": [],
   "source": [
    "counts = counts.to_frame()"
   ]
  },
  {
   "cell_type": "code",
   "execution_count": 100,
   "id": "477496ff-f41c-4c1c-88ca-a93ef901a492",
   "metadata": {},
   "outputs": [
    {
     "ename": "KeyError",
     "evalue": "Index(['1000xCoins', '23andmeforums', '5BJ7919UCLGJWICUWJLTA', 'AARP_Politics',\n       'ABA', 'ABDLPersonals', 'ABoringDystopia', 'ADHD',\n       'AI4CivilEngineering', 'AMCSTOCKS',\n       ...\n       'wyomingdoesntexist', 'xHumanity', 'xboxone', 'xco2', 'xrmed',\n       'youtubers', 'yucreat', 'zelda', 'zerocarb', 'zizek'],\n      dtype='object', length=1525)",
     "output_type": "error",
     "traceback": [
      "\u001b[0;31m---------------------------------------------------------------------------\u001b[0m",
      "\u001b[0;31mKeyError\u001b[0m                                  Traceback (most recent call last)",
      "\u001b[0;32m/var/folders/sb/f56w88cj64j7qk0fjx721zsc0000gn/T/ipykernel_16716/2187771614.py\u001b[0m in \u001b[0;36m<module>\u001b[0;34m\u001b[0m\n\u001b[0;32m----> 1\u001b[0;31m \u001b[0mx\u001b[0m \u001b[0;34m=\u001b[0m \u001b[0mraw\u001b[0m\u001b[0;34m.\u001b[0m\u001b[0mdrop_duplicates\u001b[0m\u001b[0;34m(\u001b[0m\u001b[0mraw\u001b[0m\u001b[0;34m.\u001b[0m\u001b[0mindex\u001b[0m\u001b[0;34m)\u001b[0m\u001b[0;34m\u001b[0m\u001b[0;34m\u001b[0m\u001b[0m\n\u001b[0m\u001b[1;32m      2\u001b[0m \u001b[0mx\u001b[0m\u001b[0;34m.\u001b[0m\u001b[0mloc\u001b[0m\u001b[0;34m[\u001b[0m\u001b[0mx\u001b[0m\u001b[0;34m.\u001b[0m\u001b[0mindex\u001b[0m \u001b[0;34m==\u001b[0m \u001b[0;34m\"climate\"\u001b[0m\u001b[0;34m]\u001b[0m\u001b[0;34m\u001b[0m\u001b[0;34m\u001b[0m\u001b[0m\n",
      "\u001b[0;32m~/anaconda3/lib/python3.9/site-packages/pandas/util/_decorators.py\u001b[0m in \u001b[0;36mwrapper\u001b[0;34m(*args, **kwargs)\u001b[0m\n\u001b[1;32m    309\u001b[0m                     \u001b[0mstacklevel\u001b[0m\u001b[0;34m=\u001b[0m\u001b[0mstacklevel\u001b[0m\u001b[0;34m,\u001b[0m\u001b[0;34m\u001b[0m\u001b[0;34m\u001b[0m\u001b[0m\n\u001b[1;32m    310\u001b[0m                 )\n\u001b[0;32m--> 311\u001b[0;31m             \u001b[0;32mreturn\u001b[0m \u001b[0mfunc\u001b[0m\u001b[0;34m(\u001b[0m\u001b[0;34m*\u001b[0m\u001b[0margs\u001b[0m\u001b[0;34m,\u001b[0m \u001b[0;34m**\u001b[0m\u001b[0mkwargs\u001b[0m\u001b[0;34m)\u001b[0m\u001b[0;34m\u001b[0m\u001b[0;34m\u001b[0m\u001b[0m\n\u001b[0m\u001b[1;32m    312\u001b[0m \u001b[0;34m\u001b[0m\u001b[0m\n\u001b[1;32m    313\u001b[0m         \u001b[0;32mreturn\u001b[0m \u001b[0mwrapper\u001b[0m\u001b[0;34m\u001b[0m\u001b[0;34m\u001b[0m\u001b[0m\n",
      "\u001b[0;32m~/anaconda3/lib/python3.9/site-packages/pandas/core/frame.py\u001b[0m in \u001b[0;36mdrop_duplicates\u001b[0;34m(self, subset, keep, inplace, ignore_index)\u001b[0m\n\u001b[1;32m   6061\u001b[0m         \u001b[0minplace\u001b[0m \u001b[0;34m=\u001b[0m \u001b[0mvalidate_bool_kwarg\u001b[0m\u001b[0;34m(\u001b[0m\u001b[0minplace\u001b[0m\u001b[0;34m,\u001b[0m \u001b[0;34m\"inplace\"\u001b[0m\u001b[0;34m)\u001b[0m\u001b[0;34m\u001b[0m\u001b[0;34m\u001b[0m\u001b[0m\n\u001b[1;32m   6062\u001b[0m         \u001b[0mignore_index\u001b[0m \u001b[0;34m=\u001b[0m \u001b[0mvalidate_bool_kwarg\u001b[0m\u001b[0;34m(\u001b[0m\u001b[0mignore_index\u001b[0m\u001b[0;34m,\u001b[0m \u001b[0;34m\"ignore_index\"\u001b[0m\u001b[0;34m)\u001b[0m\u001b[0;34m\u001b[0m\u001b[0;34m\u001b[0m\u001b[0m\n\u001b[0;32m-> 6063\u001b[0;31m         \u001b[0mduplicated\u001b[0m \u001b[0;34m=\u001b[0m \u001b[0mself\u001b[0m\u001b[0;34m.\u001b[0m\u001b[0mduplicated\u001b[0m\u001b[0;34m(\u001b[0m\u001b[0msubset\u001b[0m\u001b[0;34m,\u001b[0m \u001b[0mkeep\u001b[0m\u001b[0;34m=\u001b[0m\u001b[0mkeep\u001b[0m\u001b[0;34m)\u001b[0m\u001b[0;34m\u001b[0m\u001b[0;34m\u001b[0m\u001b[0m\n\u001b[0m\u001b[1;32m   6064\u001b[0m \u001b[0;34m\u001b[0m\u001b[0m\n\u001b[1;32m   6065\u001b[0m         \u001b[0mresult\u001b[0m \u001b[0;34m=\u001b[0m \u001b[0mself\u001b[0m\u001b[0;34m[\u001b[0m\u001b[0;34m-\u001b[0m\u001b[0mduplicated\u001b[0m\u001b[0;34m]\u001b[0m\u001b[0;34m\u001b[0m\u001b[0;34m\u001b[0m\u001b[0m\n",
      "\u001b[0;32m~/anaconda3/lib/python3.9/site-packages/pandas/core/frame.py\u001b[0m in \u001b[0;36mduplicated\u001b[0;34m(self, subset, keep)\u001b[0m\n\u001b[1;32m   6195\u001b[0m         \u001b[0mdiff\u001b[0m \u001b[0;34m=\u001b[0m \u001b[0mIndex\u001b[0m\u001b[0;34m(\u001b[0m\u001b[0msubset\u001b[0m\u001b[0;34m)\u001b[0m\u001b[0;34m.\u001b[0m\u001b[0mdifference\u001b[0m\u001b[0;34m(\u001b[0m\u001b[0mself\u001b[0m\u001b[0;34m.\u001b[0m\u001b[0mcolumns\u001b[0m\u001b[0;34m)\u001b[0m\u001b[0;34m\u001b[0m\u001b[0;34m\u001b[0m\u001b[0m\n\u001b[1;32m   6196\u001b[0m         \u001b[0;32mif\u001b[0m \u001b[0;32mnot\u001b[0m \u001b[0mdiff\u001b[0m\u001b[0;34m.\u001b[0m\u001b[0mempty\u001b[0m\u001b[0;34m:\u001b[0m\u001b[0;34m\u001b[0m\u001b[0;34m\u001b[0m\u001b[0m\n\u001b[0;32m-> 6197\u001b[0;31m             \u001b[0;32mraise\u001b[0m \u001b[0mKeyError\u001b[0m\u001b[0;34m(\u001b[0m\u001b[0mdiff\u001b[0m\u001b[0;34m)\u001b[0m\u001b[0;34m\u001b[0m\u001b[0;34m\u001b[0m\u001b[0m\n\u001b[0m\u001b[1;32m   6198\u001b[0m \u001b[0;34m\u001b[0m\u001b[0m\n\u001b[1;32m   6199\u001b[0m         \u001b[0mvals\u001b[0m \u001b[0;34m=\u001b[0m \u001b[0;34m(\u001b[0m\u001b[0mcol\u001b[0m\u001b[0;34m.\u001b[0m\u001b[0mvalues\u001b[0m \u001b[0;32mfor\u001b[0m \u001b[0mname\u001b[0m\u001b[0;34m,\u001b[0m \u001b[0mcol\u001b[0m \u001b[0;32min\u001b[0m \u001b[0mself\u001b[0m\u001b[0;34m.\u001b[0m\u001b[0mitems\u001b[0m\u001b[0;34m(\u001b[0m\u001b[0;34m)\u001b[0m \u001b[0;32mif\u001b[0m \u001b[0mname\u001b[0m \u001b[0;32min\u001b[0m \u001b[0msubset\u001b[0m\u001b[0;34m)\u001b[0m\u001b[0;34m\u001b[0m\u001b[0;34m\u001b[0m\u001b[0m\n",
      "\u001b[0;31mKeyError\u001b[0m: Index(['1000xCoins', '23andmeforums', '5BJ7919UCLGJWICUWJLTA', 'AARP_Politics',\n       'ABA', 'ABDLPersonals', 'ABoringDystopia', 'ADHD',\n       'AI4CivilEngineering', 'AMCSTOCKS',\n       ...\n       'wyomingdoesntexist', 'xHumanity', 'xboxone', 'xco2', 'xrmed',\n       'youtubers', 'yucreat', 'zelda', 'zerocarb', 'zizek'],\n      dtype='object', length=1525)"
     ]
    }
   ],
   "source": [
    "x = raw.drop_duplicates(raw.index)\n",
    "x.loc[x.index == \"climate\"]"
   ]
  },
  {
   "cell_type": "code",
   "execution_count": 101,
   "id": "118eb7ae-a7da-440f-9ff1-9ad6cf3988c5",
   "metadata": {},
   "outputs": [],
   "source": [
    "#write to dataframe\n",
    "with open(\"sample_reddit_COMP400_news.csv\", \"wt\") as f:\n",
    "    df.to_csv(f)"
   ]
  },
  {
   "cell_type": "code",
   "execution_count": 163,
   "id": "d2413b24-cd2b-4b4f-8c05-9d6b418dec67",
   "metadata": {},
   "outputs": [],
   "source": [
    "subs = [\"news\", \"science\", \"askreddit\", \"politics\", \"technology\"]\n",
    "for i in range(len(ds)):\n",
    "    df = pd.DataFrame.from_dict(ds[i])\n",
    "    with open(f\"{subs[i]}.csv\", \"wt\") as f:\n",
    "        df.to_csv(f)"
   ]
  },
  {
   "cell_type": "code",
   "execution_count": 232,
   "id": "1fd863d9-26df-4005-93ae-b4101c835f5e",
   "metadata": {},
   "outputs": [],
   "source": [
    "#This lets you check for a single word whether it's in selftext. Just for exploratory purposes\n",
    "\n",
    "df.loc[df[\"selftext\"].str.contains(\"forest fire\")]"
   ]
  }
 ],
 "metadata": {
  "kernelspec": {
   "display_name": "Python 3 (ipykernel)",
   "language": "python",
   "name": "python3"
  },
  "language_info": {
   "codemirror_mode": {
    "name": "ipython",
    "version": 3
   },
   "file_extension": ".py",
   "mimetype": "text/x-python",
   "name": "python",
   "nbconvert_exporter": "python",
   "pygments_lexer": "ipython3",
   "version": "3.9.7"
  }
 },
 "nbformat": 4,
 "nbformat_minor": 5
}
