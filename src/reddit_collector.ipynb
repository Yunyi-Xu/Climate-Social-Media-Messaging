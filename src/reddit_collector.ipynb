{
 "cells": [
  {
   "cell_type": "markdown",
   "id": "a1a20b92-598a-4bee-918b-91dc0025aa96",
   "metadata": {
    "jp-MarkdownHeadingCollapsed": true,
    "tags": []
   },
   "source": [
    "## Setup"
   ]
  },
  {
   "cell_type": "code",
   "execution_count": 4,
   "id": "a7e67cda-ba80-4343-b351-8bdc58e35838",
   "metadata": {},
   "outputs": [],
   "source": [
    "import pandas as pd"
   ]
  },
  {
   "cell_type": "code",
   "execution_count": 29,
   "id": "441b33df-d1b2-4f8e-ad8e-cd4e04a88141",
   "metadata": {},
   "outputs": [],
   "source": [
    "from psaw import PushshiftAPI\n",
    "\n",
    "api = PushshiftAPI()\n",
    "\n",
    "import datetime as dt\n",
    "import time\n"
   ]
  },
  {
   "cell_type": "markdown",
   "id": "699bc86b-c897-4ca9-a560-1f83ac9a9517",
   "metadata": {
    "tags": []
   },
   "source": [
    "## Collect Dataset"
   ]
  },
  {
   "cell_type": "code",
   "execution_count": 109,
   "id": "34765df1-1c06-4bb3-b30c-0a533e15270b",
   "metadata": {},
   "outputs": [],
   "source": [
    "#Takes generator of posts and adds them to \"data\" dictionary\n",
    "#NOTE: make sure to globally define data if converted to script\n",
    "\n",
    "def add_posts(posts, dictionary):\n",
    "    for post in posts:\n",
    "        try: # makes sure no fields are null before adding to dictionary\n",
    "            ID = post.id\n",
    "            title = post.title\n",
    "            author = post.author\n",
    "            subreddit = post.subreddit\n",
    "            subreddit_subscribers = post.subreddit_subscribers\n",
    "            num_comments = post.num_comments\n",
    "            upvote_ratio = post.upvote_ratio\n",
    "            selftext = post.selftext\n",
    "        except AttributeError:\n",
    "            continue\n",
    "        dictionary[\"id\"].append(ID)\n",
    "        dictionary[\"title\"].append(title)\n",
    "        dictionary[\"author\"].append(author)\n",
    "        dictionary[\"subreddit\"].append(subreddit)\n",
    "        dictionary[\"subreddit_subscribers\"].append(subreddit_subscribers)\n",
    "        dictionary[\"num_comments\"].append(num_comments)\n",
    "        dictionary[\"upvote_ratio\"].append(upvote_ratio)                            \n",
    "        dictionary[\"selftext\"].append(selftext)\n",
    "    return dictionary\n",
    "        "
   ]
  },
  {
   "cell_type": "code",
   "execution_count": 156,
   "id": "9df23a75-760e-4b67-9abf-8b3e4a2e4963",
   "metadata": {},
   "outputs": [],
   "source": [
    "def collect_posts(subreddits: list, monthRange: tuple, dayRange: tuple):\n",
    "    \n",
    "    \"\"\"\n",
    "    Collects posts over a given time range in a given number of subreddits and returns a list of dictionaries containing the results.\n",
    "\n",
    "    Parameters\n",
    "    ----------\n",
    "    subreddits: list\n",
    "        List of strings, each specifying a subreddits to query\n",
    "    monthRange: tuple\n",
    "        Tuple of two integers corresponding to first and last month to query. Use integers 1 through 12.\n",
    "    dayRange\n",
    "        Tuple of two integers corresponding to first and last day per month to query. Use integers 1 through 31.\n",
    "\n",
    "    Returns\n",
    "    -------\n",
    "    list of dict\n",
    "        Each dictionary corresponds to queries of a given subreddit\n",
    "\n",
    "    \"\"\"\n",
    "    \n",
    "    dictionaries = list()\n",
    "    for s in subreddits:\n",
    "        d = {\"id\": [], \"title\" : [], \"author\" : [], \"subreddit\": [], \"subreddit_subscribers\" : [], \"num_comments\": [], \"upvote_ratio\": [], \"selftext\" : []}\n",
    "        for month in range(monthRange[0],monthRange[1]+1):\n",
    "            for i in range(dayRange[0],dayRange[1]+1):\n",
    "                try:\n",
    "                    start_epoch = int(dt.datetime(2021, month, i).timestamp())\n",
    "                    end_epoch = int(dt.datetime (2021, month, i+1).timestamp())\n",
    "                except ValueError: # occurs when trying to access Feb 30, April 31, etc.\n",
    "                    break\n",
    "                posts = api.search_submissions(q = '\"climate change\"|\"global warming\"',\n",
    "                after = start_epoch,\n",
    "                before = end_epoch,\n",
    "                subreddit = s,\n",
    "                limit = 100)\n",
    "                \n",
    "                \n",
    "                d = add_posts(posts, d)\n",
    "        dictionaries.append(d)\n",
    "    return dictionaries"
   ]
  },
  {
   "cell_type": "code",
   "execution_count": 157,
   "id": "8ee95cbf-3f6f-4c44-abd6-12dbcbf7866d",
   "metadata": {},
   "outputs": [
    {
     "name": "stderr",
     "output_type": "stream",
     "text": [
      "/Users/robdow/anaconda3/lib/python3.9/site-packages/psaw/PushshiftAPI.py:192: UserWarning: Got non 200 code 502\n",
      "  warnings.warn(\"Got non 200 code %s\" % response.status_code)\n"
     ]
    }
   ],
   "source": [
    "ds = collect_posts([\"news\", \"science\", \"askreddit\", \"politics\", \"technology\"], (1,12), (1,31))"
   ]
  },
  {
   "cell_type": "code",
   "execution_count": 165,
   "id": "2cffc756-6bf0-4d09-aa55-0ef0920ae5d3",
   "metadata": {},
   "outputs": [
    {
     "data": {
      "text/plain": [
       "528"
      ]
     },
     "execution_count": 165,
     "metadata": {},
     "output_type": "execute_result"
    }
   ],
   "source": [
    "len(ds[0][\"subreddit\"])"
   ]
  },
  {
   "cell_type": "markdown",
   "id": "6670751d-a1b0-46f8-b5ec-892182d74075",
   "metadata": {
    "jp-MarkdownHeadingCollapsed": true,
    "tags": []
   },
   "source": [
    "## Troubleshooting section"
   ]
  },
  {
   "cell_type": "code",
   "execution_count": 78,
   "id": "8ba431eb-5d3f-407d-9187-ddf1e748fe9d",
   "metadata": {},
   "outputs": [],
   "source": [
    "terms = [\"climate change\",\"global warming\"\"]"
   ]
  },
  {
   "cell_type": "code",
   "execution_count": 202,
   "id": "a48a6155-1ea5-4061-b32b-6b52d1fa17a1",
   "metadata": {},
   "outputs": [
    {
     "name": "stdout",
     "output_type": "stream",
     "text": [
      "total: 100\tEither: 98\ttitle: 56\tselftext: 45\n"
     ]
    }
   ],
   "source": [
    "# This code is used to count keywords appearing in title vs selftext\n",
    "\n",
    "start_epoch = int(dt.datetime(2021, 1, 4).timestamp())\n",
    "end_epoch = int(dt.datetime (2021, 1, 5).timestamp())\n",
    "\n",
    "posts = api.search_submissions(q = '\"climate change\"|\"global warming\"',\n",
    "after = start_epoch,\n",
    "before = end_epoch,\n",
    "limit = 100\n",
    ")\n",
    "\n",
    "title = 0\n",
    "selftext = 0\n",
    "either = 0\n",
    "total = 0\n",
    "for post in posts:\n",
    "    total += 1\n",
    "    for term in terms:\n",
    "        if (term in post.title.lower()) or (term in post.selftext.lower()):\n",
    "            either += 1\n",
    "            if (term in post.title.lower()):\n",
    "                title += 1\n",
    "            if (term in post.selftext.lower()):\n",
    "                selftext += 1\n",
    "        break\n",
    "    # else:\n",
    "    #     print(post)\n",
    "    #     break\n",
    "print(f\"total: {total}\\tEither: {either}\\ttitle: {title}\\tselftext: {selftext}\")"
   ]
  },
  {
   "cell_type": "code",
   "execution_count": 219,
   "id": "29be2e7f-f99c-46fe-8602-17d0a3d7466b",
   "metadata": {},
   "outputs": [],
   "source": [
    "#This code is used to collect 100 posts from a single day (makes it easy to troubleshoot)\n",
    "\n",
    "start_epoch = int(dt.datetime(2021, 1, 4).timestamp())\n",
    "end_epoch = int(dt.datetime (2021, 1, 5).timestamp())\n",
    "\n",
    "posts = api.search_submissions(q = '\"climate change\"|\"forest fire\"|\"greenhouse gas\"',\n",
    "after = start_epoch,\n",
    "before = end_epoch,\n",
    "limit = 100\n",
    ")"
   ]
  },
  {
   "cell_type": "code",
   "execution_count": 220,
   "id": "53ee1691-9762-4d84-bbe6-c1652bf284d1",
   "metadata": {},
   "outputs": [],
   "source": [
    "p = next(posts) #gets individual post"
   ]
  },
  {
   "cell_type": "code",
   "execution_count": 221,
   "id": "4606540f-f10a-4176-8c4d-3fc5dabe5c98",
   "metadata": {},
   "outputs": [
    {
     "data": {
      "text/plain": [
       "\"Why haven't we engineered a bacteria that essentially eats CO2 and sequesters it very efficiently to combat climate change? Desperate for this discussion!\""
      ]
     },
     "execution_count": 221,
     "metadata": {},
     "output_type": "execute_result"
    }
   ],
   "source": [
    "p.title #access attribute of a post"
   ]
  },
  {
   "cell_type": "code",
   "execution_count": 222,
   "id": "0049c805-1d13-4ebd-8d2a-146daf0d32fe",
   "metadata": {},
   "outputs": [
    {
     "name": "stdout",
     "output_type": "stream",
     "text": [
      "FF: 5\tGG: 0\tCC: 91\tTotal: 99\n"
     ]
    }
   ],
   "source": [
    "#counts number of keywords contained in posts\n",
    "\n",
    "cc = 0\n",
    "ff = 0\n",
    "gg = 0\n",
    "total = 0\n",
    "for post in posts:\n",
    "    total += 1\n",
    "    if (\"climate change\" in post.title.lower()) or (\"climate change\" in post.selftext.lower()):\n",
    "        cc += 1\n",
    "    elif (\"forest fire\" in post.title) or (\"forest fire\" in post.selftext):\n",
    "        ff += 1\n",
    "    elif (\"greenhouse gas\" in post.title) or (\"greenhouse gas\" in post.selftext):\n",
    "        ff += 1\n",
    "    # else:\n",
    "    #     print(post)\n",
    "    #     break\n",
    "print(f\"FF: {ff}\\tGG: {gg}\\tCC: {cc}\\tTotal: {total}\")"
   ]
  },
  {
   "cell_type": "code",
   "execution_count": 414,
   "id": "7780bac1-2d09-476b-8db1-c70ce89c42bb",
   "metadata": {},
   "outputs": [],
   "source": [
    "#There are a lot of attributes in a post. I found these ones helpful\n",
    "\n",
    "#Title\n",
    "#subreddit\n",
    "#author\n",
    "#media_only\n",
    "#subreddit_subscribers (number)\n",
    "#id\n",
    "#num_comments"
   ]
  },
  {
   "cell_type": "markdown",
   "id": "c15bd556-4fd8-4db1-aa70-b6b5f6cd2c33",
   "metadata": {
    "tags": []
   },
   "source": [
    "## Converting to usable files"
   ]
  },
  {
   "cell_type": "code",
   "execution_count": 99,
   "id": "de1270a7-1758-4204-9a4d-ae33e456bbfb",
   "metadata": {},
   "outputs": [],
   "source": [
    "df = pd.DataFrame.from_dict(data) #load dictionary into dataframe"
   ]
  },
  {
   "cell_type": "code",
   "execution_count": 78,
   "id": "10eefc15-bc89-42cd-915a-a256aeacbb1b",
   "metadata": {},
   "outputs": [],
   "source": [
    "# remove empty posts\n",
    "df = df.loc[ ((~(df[\"selftext\"] == '')) & (~(df[\"selftext\"] == '[removed]')) & (~(df[\"selftext\"] == '[deleted]')) & (~(df[\"title\"] == '')) & (~(df[\"title\"] == '')))]"
   ]
  },
  {
   "cell_type": "code",
   "execution_count": 91,
   "id": "0564a73e-ba4c-4f8e-bed1-1380794dde49",
   "metadata": {},
   "outputs": [
    {
     "data": {
      "text/plain": [
       "150"
      ]
     },
     "execution_count": 91,
     "metadata": {},
     "output_type": "execute_result"
    }
   ],
   "source": [
    "len(df[\"title\"])"
   ]
  },
  {
   "cell_type": "code",
   "execution_count": 101,
   "id": "118eb7ae-a7da-440f-9ff1-9ad6cf3988c5",
   "metadata": {},
   "outputs": [],
   "source": [
    "#write to dataframe\n",
    "with open(\"sample_reddit_COMP400_news.csv\", \"wt\") as f:\n",
    "    df.to_csv(f)"
   ]
  },
  {
   "cell_type": "code",
   "execution_count": 163,
   "id": "d2413b24-cd2b-4b4f-8c05-9d6b418dec67",
   "metadata": {},
   "outputs": [],
   "source": [
    "#write collect posts output to file\n",
    "\n",
    "subs = [\"news\", \"science\", \"askreddit\", \"politics\", \"technology\"]\n",
    "for i in range(len(ds)):\n",
    "    df = pd.DataFrame.from_dict(ds[i])\n",
    "    with open(f\"{subs[i]}.csv\", \"wt\") as f:\n",
    "        df.to_csv(f)"
   ]
  }
 ],
 "metadata": {
  "kernelspec": {
   "display_name": "Python 3 (ipykernel)",
   "language": "python",
   "name": "python3"
  },
  "language_info": {
   "codemirror_mode": {
    "name": "ipython",
    "version": 3
   },
   "file_extension": ".py",
   "mimetype": "text/x-python",
   "name": "python",
   "nbconvert_exporter": "python",
   "pygments_lexer": "ipython3",
   "version": "3.9.7"
  }
 },
 "nbformat": 4,
 "nbformat_minor": 5
}
